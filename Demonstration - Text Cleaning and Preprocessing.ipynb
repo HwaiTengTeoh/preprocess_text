{
 "cells": [
  {
   "cell_type": "markdown",
   "id": "e7a1ce83",
   "metadata": {},
   "source": [
    "<div class=\"alert\" style=\"background-color:#68bb59; color:white; padding:0px 10px; border-radius:5px;\"><h1 style='margin:15px 15px; color:white; font-size:40px'>Demonstration: Text Cleaning and Preprocessing</h1>\n",
    "</div>"
   ]
  },
  {
   "cell_type": "markdown",
   "id": "ec44791b",
   "metadata": {},
   "source": [
    "\n",
    "<div class=\"alert alert-info\" style=\"background-color:#68bb59; color:white; padding:0px 10px; border-radius:5px;\"><h2 style='margin:10px 5px'>Install Package from GitHub</h2>\n",
    "</div>\n",
    "\n",
    "`!pip install git+ssh://git@github.com/HwaiTengTeoh/preprocess_text.git`"
   ]
  },
  {
   "cell_type": "markdown",
   "id": "494aa141",
   "metadata": {},
   "source": [
    "\n",
    "<div class=\"alert alert-info\" style=\"background-color:#68bb59; color:white; padding:0px 10px; border-radius:5px;\"><h2 style='margin:10px 5px'>Import Libraries</h2>\n",
    "</div>"
   ]
  },
  {
   "cell_type": "code",
   "execution_count": 1,
   "id": "a9ddde79",
   "metadata": {},
   "outputs": [
    {
     "name": "stdout",
     "output_type": "stream",
     "text": [
      "\r",
      "  0% [                                                                              ]     0 / 22825\r",
      " 35% [...........................                                                   ]  8192 / 22825\r",
      " 71% [.......................................................                       ] 16384 / 22825\r",
      "100% [..............................................................................] 22825 / 22825"
     ]
    }
   ],
   "source": [
    "import preprocess_text as pt"
   ]
  },
  {
   "cell_type": "markdown",
   "id": "b2b61d3a",
   "metadata": {},
   "source": [
    "\n",
    "<div class=\"alert alert-info\" style=\"background-color:#68bb59; color:white; padding:0px 10px; border-radius:5px;\"><h2 style='margin:10px 5px'>Text Statistics Related Functions</h2>\n",
    "</div>\n"
   ]
  },
  {
   "cell_type": "code",
   "execution_count": 105,
   "id": "e3115e49",
   "metadata": {},
   "outputs": [],
   "source": [
    "# String\n",
    "x = \"I love you because you are lovely 520 https://fsymbols.com by iloveyou@gmail.com #confesslove @mygirl\""
   ]
  },
  {
   "cell_type": "code",
   "execution_count": 106,
   "id": "ef3c6c40",
   "metadata": {},
   "outputs": [
    {
     "data": {
      "text/plain": [
       "13"
      ]
     },
     "execution_count": 106,
     "metadata": {},
     "output_type": "execute_result"
    }
   ],
   "source": [
    "# Count word\n",
    "pt.get_wordcounts(x)"
   ]
  },
  {
   "cell_type": "code",
   "execution_count": 107,
   "id": "aefd7941",
   "metadata": {},
   "outputs": [
    {
     "data": {
      "text/plain": [
       "89"
      ]
     },
     "execution_count": 107,
     "metadata": {},
     "output_type": "execute_result"
    }
   ],
   "source": [
    "# Count characters\n",
    "pt.get_char_counts(x)"
   ]
  },
  {
   "cell_type": "code",
   "execution_count": 108,
   "id": "0759ef8b",
   "metadata": {},
   "outputs": [
    {
     "data": {
      "text/plain": [
       "6.846153846153846"
      ]
     },
     "execution_count": 108,
     "metadata": {},
     "output_type": "execute_result"
    }
   ],
   "source": [
    "# Calculate average wordlength\n",
    "pt.get_avg_wordlength(x)"
   ]
  },
  {
   "cell_type": "code",
   "execution_count": 109,
   "id": "a456f8c6",
   "metadata": {},
   "outputs": [
    {
     "data": {
      "text/plain": [
       "5"
      ]
     },
     "execution_count": 109,
     "metadata": {},
     "output_type": "execute_result"
    }
   ],
   "source": [
    "# Count stopword\n",
    "pt.get_stopwords_counts(x)"
   ]
  },
  {
   "cell_type": "code",
   "execution_count": 110,
   "id": "d80ebeb8",
   "metadata": {},
   "outputs": [
    {
     "data": {
      "text/plain": [
       "1"
      ]
     },
     "execution_count": 110,
     "metadata": {},
     "output_type": "execute_result"
    }
   ],
   "source": [
    "# Count hashtag\n",
    "pt.get_hashtag_counts(x)"
   ]
  },
  {
   "cell_type": "code",
   "execution_count": 111,
   "id": "3a8d6126",
   "metadata": {},
   "outputs": [
    {
     "data": {
      "text/plain": [
       "1"
      ]
     },
     "execution_count": 111,
     "metadata": {},
     "output_type": "execute_result"
    }
   ],
   "source": [
    "# Count mentions\n",
    "pt.get_mention_counts(x)"
   ]
  },
  {
   "cell_type": "code",
   "execution_count": 112,
   "id": "1610701f",
   "metadata": {},
   "outputs": [
    {
     "data": {
      "text/plain": [
       "1"
      ]
     },
     "execution_count": 112,
     "metadata": {},
     "output_type": "execute_result"
    }
   ],
   "source": [
    "# Count digits\n",
    "pt.get_digit_counts(x)"
   ]
  },
  {
   "cell_type": "code",
   "execution_count": 113,
   "id": "b3a21776",
   "metadata": {},
   "outputs": [
    {
     "data": {
      "text/plain": [
       "1"
      ]
     },
     "execution_count": 113,
     "metadata": {},
     "output_type": "execute_result"
    }
   ],
   "source": [
    "# Count uppercase\n",
    "pt.get_uppercase_counts(x)\n"
   ]
  },
  {
   "cell_type": "code",
   "execution_count": 114,
   "id": "7c3bd724",
   "metadata": {},
   "outputs": [
    {
     "data": {
      "text/plain": [
       "1"
      ]
     },
     "execution_count": 114,
     "metadata": {},
     "output_type": "execute_result"
    }
   ],
   "source": [
    "# Count emails\n",
    "pt.get_emails(x)\n"
   ]
  },
  {
   "cell_type": "code",
   "execution_count": 115,
   "id": "a600a928",
   "metadata": {},
   "outputs": [
    {
     "data": {
      "text/plain": [
       "1"
      ]
     },
     "execution_count": 115,
     "metadata": {},
     "output_type": "execute_result"
    }
   ],
   "source": [
    "# Count Weblink/URL\n",
    "pt.get_urls(x)\n"
   ]
  },
  {
   "cell_type": "code",
   "execution_count": 116,
   "id": "b987f8a5",
   "metadata": {},
   "outputs": [
    {
     "data": {
      "text/plain": [
       "6"
      ]
     },
     "execution_count": 116,
     "metadata": {},
     "output_type": "execute_result"
    }
   ],
   "source": [
    "# Count Punctuations\n",
    "pt.get_punc_counts(x)"
   ]
  },
  {
   "cell_type": "code",
   "execution_count": 119,
   "id": "db28927e",
   "metadata": {},
   "outputs": [
    {
     "data": {
      "text/plain": [
       "0"
      ]
     },
     "execution_count": 119,
     "metadata": {},
     "output_type": "execute_result"
    }
   ],
   "source": [
    "# Count Part of Speech Tags\n",
    "pos_tag_all = pt.get_pos_tag(x)\n",
    "pt.get_pos_tag_counts(pos_tag_all,pos_tag=\"ADJ\")     #adjective\n",
    "pt.get_pos_tag_counts(pos_tag_all,pos_tag=\"ADP\")     #adposition\n",
    "pt.get_pos_tag_counts(pos_tag_all,pos_tag=\"ADV\")     #adverb\n",
    "pt.get_pos_tag_counts(pos_tag_all,pos_tag=\"AUX\")     #auxiliary\n",
    "pt.get_pos_tag_counts(pos_tag_all,pos_tag=\"CCONJ\")   #coordinating conjunction\n",
    "pt.get_pos_tag_counts(pos_tag_all,pos_tag=\"DET\")     #determiner\n",
    "pt.get_pos_tag_counts(pos_tag_all,pos_tag=\"NOUN\")    #noun\n",
    "pt.get_pos_tag_counts(pos_tag_all,pos_tag=\"INTJ\")    #interjection\n",
    "pt.get_pos_tag_counts(pos_tag_all,pos_tag=\"NUM\")     #numeral\n",
    "pt.get_pos_tag_counts(pos_tag_all,pos_tag=\"PART\")    #particle\n",
    "pt.get_pos_tag_counts(pos_tag_all,pos_tag=\"PRON\")    #pronoun\n",
    "pt.get_pos_tag_counts(pos_tag_all,pos_tag=\"PROPN\")   #proper noun\n",
    "pt.get_pos_tag_counts(pos_tag_all,pos_tag=\"PUNCT\")   #punctuation\n",
    "pt.get_pos_tag_counts(x,pos_tag=\"SCONJ\")             #subordinating conjunction\n",
    "pt.get_pos_tag_counts(x,pos_tag=\"SYM\")               #symbol\n",
    "pt.get_pos_tag_counts(x,pos_tag=\"VERB\")              #verb\n",
    "pt.get_pos_tag_counts(x,pos_tag=\"X\")                 #other"
   ]
  },
  {
   "cell_type": "code",
   "execution_count": 124,
   "id": "3e881c75",
   "metadata": {},
   "outputs": [
    {
     "data": {
      "text/plain": [
       "1"
      ]
     },
     "execution_count": 124,
     "metadata": {},
     "output_type": "execute_result"
    }
   ],
   "source": [
    "# Count Name Entities Recognition Tags\n",
    "ner_tag_all = pt.get_ner(x)\n",
    "pt.get_ner_counts(ner_tag_all,pos_tag='PERSON')\n",
    "pt.get_ner_counts(ner_tag_all,pos_tag='ORG')"
   ]
  },
  {
   "cell_type": "markdown",
   "id": "b1678d65",
   "metadata": {},
   "source": [
    "<div class=\"alert alert-info\" style=\"background-color:#68bb59; color:white; padding:0px 10px; border-radius:5px;\"><h2 style='margin:10px 5px'>Text Cleaning and Normalization Related Functions</h2>\n",
    "</div>\n"
   ]
  },
  {
   "cell_type": "code",
   "execution_count": 199,
   "id": "5d19a1c8",
   "metadata": {},
   "outputs": [],
   "source": [
    "x = \"I luv you don't leave me :) :3 L O V E Y O U U U 143 520 ♡ ♥💕❤😘 https://fsymbols.com BY iloveyou@gmail.com @cy_so_happy\""
   ]
  },
  {
   "cell_type": "code",
   "execution_count": 200,
   "id": "41eb909d",
   "metadata": {},
   "outputs": [
    {
     "name": "stdout",
     "output_type": "stream",
     "text": [
      "Text Preprocessing: Remove URLs\n"
     ]
    },
    {
     "data": {
      "text/plain": [
       "\"I luv you don't leave me :) :3 L O V E Y O U U U 143 520 ♡ ♥💕❤😘  BY iloveyou@gmail.com @cy_so_happy\""
      ]
     },
     "execution_count": 200,
     "metadata": {},
     "output_type": "execute_result"
    }
   ],
   "source": [
    "print('Text Preprocessing: Remove URLs')\n",
    "x = pt.remove_urls(x)     \n",
    "x"
   ]
  },
  {
   "cell_type": "code",
   "execution_count": 201,
   "id": "25a33d95",
   "metadata": {},
   "outputs": [
    {
     "name": "stdout",
     "output_type": "stream",
     "text": [
      "Text Preprocessing: Remove email\n"
     ]
    },
    {
     "data": {
      "text/plain": [
       "\"I luv you don't leave me :) :3 L O V E Y O U U U 143 520 ♡ ♥💕❤😘  BY  @cy_so_happy\""
      ]
     },
     "execution_count": 201,
     "metadata": {},
     "output_type": "execute_result"
    }
   ],
   "source": [
    "print('Text Preprocessing: Remove email')\n",
    "x = pt.remove_emails(x)\n",
    "x"
   ]
  },
  {
   "cell_type": "code",
   "execution_count": 202,
   "id": "add27f6d",
   "metadata": {},
   "outputs": [
    {
     "name": "stdout",
     "output_type": "stream",
     "text": [
      "Text Preprocessing: Remove user mention\n"
     ]
    },
    {
     "data": {
      "text/plain": [
       "\"I luv you don't leave me :) :3 L O V E Y O U U U 143 520 ♡ ♥💕❤😘  BY  \""
      ]
     },
     "execution_count": 202,
     "metadata": {},
     "output_type": "execute_result"
    }
   ],
   "source": [
    "print('Text Preprocessing: Remove user mention')\n",
    "x = pt.remove_mention(x)\n",
    "x"
   ]
  },
  {
   "cell_type": "code",
   "execution_count": 203,
   "id": "3266903a",
   "metadata": {},
   "outputs": [
    {
     "name": "stdout",
     "output_type": "stream",
     "text": [
      "Text Preprocessing: Remove html element\n"
     ]
    },
    {
     "data": {
      "text/plain": [
       "\"I luv you don't leave me :) :3 L O V E Y O U U U 143 520 ♡ ♥💕❤😘  BY\""
      ]
     },
     "execution_count": 203,
     "metadata": {},
     "output_type": "execute_result"
    }
   ],
   "source": [
    "print('Text Preprocessing: Remove html element')\n",
    "x = pt.remove_html_tags(x)\n",
    "x"
   ]
  },
  {
   "cell_type": "code",
   "execution_count": 204,
   "id": "6cc76ded",
   "metadata": {},
   "outputs": [
    {
     "name": "stdout",
     "output_type": "stream",
     "text": [
      "Text Preprocessing: Remove single spcae between single characters e.g F U C K\n"
     ]
    },
    {
     "data": {
      "text/plain": [
       "\"I luv you don't leave me :) :3 LOVEYOUUU 143 520 ♡ ♥💕❤😘  BY\""
      ]
     },
     "execution_count": 204,
     "metadata": {},
     "output_type": "execute_result"
    }
   ],
   "source": [
    "print('Text Preprocessing: Remove single spcae between single characters e.g F U C K')\n",
    "x = pt.remove_space_single_chars(x)\n",
    "x"
   ]
  },
  {
   "cell_type": "code",
   "execution_count": 205,
   "id": "2b89ea30",
   "metadata": {},
   "outputs": [
    {
     "name": "stdout",
     "output_type": "stream",
     "text": [
      "Text Preprocessing: Reduction of elongated characters\n"
     ]
    },
    {
     "data": {
      "text/plain": [
       "\"I luv you don't leave me :) :3 LOVEYOU 143 520 ♡ ♥💕❤😘  BY\""
      ]
     },
     "execution_count": 205,
     "metadata": {},
     "output_type": "execute_result"
    }
   ],
   "source": [
    "print('Text Preprocessing: Reduction of elongated characters')\n",
    "x = pt.remove_elongated_chars(x)\n",
    "x"
   ]
  },
  {
   "cell_type": "code",
   "execution_count": 206,
   "id": "fe79c9e2",
   "metadata": {},
   "outputs": [
    {
     "name": "stdout",
     "output_type": "stream",
     "text": [
      "Text Preprocessing: Normalize and count emoji\n"
     ]
    },
    {
     "data": {
      "text/plain": [
       "4"
      ]
     },
     "execution_count": 206,
     "metadata": {},
     "output_type": "execute_result"
    }
   ],
   "source": [
    "print('Text Preprocessing: Normalize and count emoji')\n",
    "pt.get_emoji_counts(x)"
   ]
  },
  {
   "cell_type": "code",
   "execution_count": 207,
   "id": "97ab3f71",
   "metadata": {},
   "outputs": [
    {
     "data": {
      "text/plain": [
       "\"I luv you don't leave me :) :3 LOVEYOU 143 520 ♡ heart_suittwo_heartsred_heartface_blowing_a_kiss  BY\""
      ]
     },
     "execution_count": 207,
     "metadata": {},
     "output_type": "execute_result"
    }
   ],
   "source": [
    "x = pt.convert_emojis(x)\n",
    "x"
   ]
  },
  {
   "cell_type": "code",
   "execution_count": 208,
   "id": "8e21235b",
   "metadata": {},
   "outputs": [
    {
     "name": "stdout",
     "output_type": "stream",
     "text": [
      "Text Preprocessing: Normalize and count emoticon\n"
     ]
    },
    {
     "data": {
      "text/plain": [
       "2"
      ]
     },
     "execution_count": 208,
     "metadata": {},
     "output_type": "execute_result"
    }
   ],
   "source": [
    "print('Text Preprocessing: Normalize and count emoticon')\n",
    "pt.get_emoticon_counts(x)"
   ]
  },
  {
   "cell_type": "code",
   "execution_count": 209,
   "id": "99cc1336",
   "metadata": {},
   "outputs": [
    {
     "data": {
      "text/plain": [
       "\"I luv you don't leave me Happy_face_or_smiley Happy_face_smiley LOVEYOU 143 520 ♡ heart_suittwo_heartsred_heartface_blowing_a_kiss  BY\""
      ]
     },
     "execution_count": 209,
     "metadata": {},
     "output_type": "execute_result"
    }
   ],
   "source": [
    "x = pt.convert_emoticons(x)\n",
    "x"
   ]
  },
  {
   "cell_type": "code",
   "execution_count": 210,
   "id": "51c0eae1",
   "metadata": {},
   "outputs": [
    {
     "name": "stdout",
     "output_type": "stream",
     "text": [
      "Text Preprocessing: Normalize accented character\n"
     ]
    },
    {
     "data": {
      "text/plain": [
       "\"I luv you don't leave me Happy_face_or_smiley Happy_face_smiley LOVEYOU 143 520  heart_suittwo_heartsred_heartface_blowing_a_kiss  BY\""
      ]
     },
     "execution_count": 210,
     "metadata": {},
     "output_type": "execute_result"
    }
   ],
   "source": [
    "print('Text Preprocessing: Normalize accented character')\n",
    "x = pt.remove_accented_chars(x)\n",
    "x"
   ]
  },
  {
   "cell_type": "code",
   "execution_count": 211,
   "id": "3cdb9fe2",
   "metadata": {},
   "outputs": [
    {
     "name": "stdout",
     "output_type": "stream",
     "text": [
      "Text Preprocessing: Normalize slang\n"
     ]
    },
    {
     "data": {
      "text/plain": [
       "\"I love you don't leave me Happy_face_or_smiley Happy_face_smiley LOVEYOU i love you 520 heart_suittwo_heartsred_heartface_blowing_a_kiss BY\""
      ]
     },
     "execution_count": 211,
     "metadata": {},
     "output_type": "execute_result"
    }
   ],
   "source": [
    "print('Text Preprocessing: Normalize slang')\n",
    "x = pt.slang_resolution(x)\n",
    "x   "
   ]
  },
  {
   "cell_type": "code",
   "execution_count": 212,
   "id": "b43c3560",
   "metadata": {},
   "outputs": [
    {
     "name": "stdout",
     "output_type": "stream",
     "text": [
      "Text Preprocessing: Contraction to Expansion\n"
     ]
    },
    {
     "data": {
      "text/plain": [
       "'I love you do not leave me Happy_face_or_smiley Happy_face_smiley LOVEYOU i love you 520 heart_suittwo_heartsred_heartface_blowing_a_kiss BY'"
      ]
     },
     "execution_count": 212,
     "metadata": {},
     "output_type": "execute_result"
    }
   ],
   "source": [
    "print('Text Preprocessing: Contraction to Expansion')\n",
    "x = pt.cont_exp(x)      \n",
    "x"
   ]
  },
  {
   "cell_type": "code",
   "execution_count": 214,
   "id": "4d6cb619",
   "metadata": {},
   "outputs": [
    {
     "name": "stdout",
     "output_type": "stream",
     "text": [
      "Text Preprocessing: Remove numeric\n"
     ]
    },
    {
     "data": {
      "text/plain": [
       "'I love you do not leave me Happy_face_or_smiley Happy_face_smiley LOVEYOU i love you  heart_suittwo_heartsred_heartface_blowing_a_kiss BY'"
      ]
     },
     "execution_count": 214,
     "metadata": {},
     "output_type": "execute_result"
    }
   ],
   "source": [
    "print('Text Preprocessing: Remove numeric')\n",
    "x = pt.remove_numeric(x)\n",
    "x"
   ]
  },
  {
   "cell_type": "code",
   "execution_count": 215,
   "id": "566f5e6d",
   "metadata": {},
   "outputs": [
    {
     "name": "stdout",
     "output_type": "stream",
     "text": [
      "Text Preprocessing: Special Characters Removal\n"
     ]
    },
    {
     "data": {
      "text/plain": [
       "'I love you do not leave me Happy face or smiley Happy face smiley LOVEYOU i love you  heart suittwo heartsred heartface blowing a kiss BY'"
      ]
     },
     "execution_count": 215,
     "metadata": {},
     "output_type": "execute_result"
    }
   ],
   "source": [
    "print('Text Preprocessing: Special Characters Removal')\n",
    "x = pt.remove_special_chars(x)\n",
    "x"
   ]
  },
  {
   "cell_type": "code",
   "execution_count": 216,
   "id": "b25f6614",
   "metadata": {},
   "outputs": [
    {
     "name": "stdout",
     "output_type": "stream",
     "text": [
      "Text Preprocessing: Stopword Removal\n"
     ]
    },
    {
     "data": {
      "text/plain": [
       "'I love you   leave me Happy face  smiley Happy face smiley LOVEYOU i love you  heart suittwo heartsred heartface blowing  kiss '"
      ]
     },
     "execution_count": 216,
     "metadata": {},
     "output_type": "execute_result"
    }
   ],
   "source": [
    "print('Text Preprocessing: Stopword Removal')\n",
    "x = pt.remove_stopwords(x,keep_pronoun=1)\n",
    "x "
   ]
  },
  {
   "cell_type": "code",
   "execution_count": 217,
   "id": "9a4f2da0",
   "metadata": {},
   "outputs": [
    {
     "name": "stdout",
     "output_type": "stream",
     "text": [
      "Text Preprocessing: Lemmatization\n"
     ]
    },
    {
     "data": {
      "text/plain": [
       "'I love you    leave me happy face   smiley happy face smiley LOVEYOU i love you   heart suittwo heartsred heartface blow   kiss'"
      ]
     },
     "execution_count": 217,
     "metadata": {},
     "output_type": "execute_result"
    }
   ],
   "source": [
    "print('Text Preprocessing: Lemmatization')\n",
    "x = pt.make_base(x)\n",
    "x"
   ]
  }
 ],
 "metadata": {
  "kernelspec": {
   "display_name": "Python 3 (ipykernel)",
   "language": "python",
   "name": "python3"
  },
  "language_info": {
   "codemirror_mode": {
    "name": "ipython",
    "version": 3
   },
   "file_extension": ".py",
   "mimetype": "text/x-python",
   "name": "python",
   "nbconvert_exporter": "python",
   "pygments_lexer": "ipython3",
   "version": "3.9.7"
  }
 },
 "nbformat": 4,
 "nbformat_minor": 5
}
